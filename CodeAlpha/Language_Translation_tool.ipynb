{
  "nbformat": 4,
  "nbformat_minor": 0,
  "metadata": {
    "colab": {
      "provenance": [],
      "authorship_tag": "ABX9TyMRtwsGe3QtRzqwTwyyn5cD",
      "include_colab_link": true
    },
    "kernelspec": {
      "name": "python3",
      "display_name": "Python 3"
    },
    "language_info": {
      "name": "python"
    }
  },
  "cells": [
    {
      "cell_type": "markdown",
      "metadata": {
        "id": "view-in-github",
        "colab_type": "text"
      },
      "source": [
        "<a href=\"https://colab.research.google.com/github/Soumya1029/First_project/blob/main/Translation_tool.ipynb\" target=\"_parent\"><img src=\"https://colab.research.google.com/assets/colab-badge.svg\" alt=\"Open In Colab\"/></a>"
      ]
    },
    {
      "cell_type": "code",
      "source": [
        "pip install googletrans==4.0.0-rc1"
      ],
      "metadata": {
        "colab": {
          "base_uri": "https://localhost:8080/"
        },
        "id": "6IpOFol17LqC",
        "outputId": "41dea230-c716-4f94-9169-e68b654545a9"
      },
      "execution_count": 3,
      "outputs": [
        {
          "output_type": "stream",
          "name": "stdout",
          "text": [
            "Collecting googletrans==4.0.0-rc1\n",
            "  Downloading googletrans-4.0.0rc1.tar.gz (20 kB)\n",
            "  Preparing metadata (setup.py) ... \u001b[?25l\u001b[?25hdone\n",
            "Collecting httpx==0.13.3 (from googletrans==4.0.0-rc1)\n",
            "  Downloading httpx-0.13.3-py3-none-any.whl (55 kB)\n",
            "\u001b[2K     \u001b[90m━━━━━━━━━━━━━━━━━━━━━━━━━━━━━━━━━━━━━━━━\u001b[0m \u001b[32m55.1/55.1 kB\u001b[0m \u001b[31m2.9 MB/s\u001b[0m eta \u001b[36m0:00:00\u001b[0m\n",
            "\u001b[?25hRequirement already satisfied: certifi in /usr/local/lib/python3.10/dist-packages (from httpx==0.13.3->googletrans==4.0.0-rc1) (2024.6.2)\n",
            "Collecting hstspreload (from httpx==0.13.3->googletrans==4.0.0-rc1)\n",
            "  Downloading hstspreload-2024.7.1-py3-none-any.whl (1.2 MB)\n",
            "\u001b[2K     \u001b[90m━━━━━━━━━━━━━━━━━━━━━━━━━━━━━━━━━━━━━━━━\u001b[0m \u001b[32m1.2/1.2 MB\u001b[0m \u001b[31m29.7 MB/s\u001b[0m eta \u001b[36m0:00:00\u001b[0m\n",
            "\u001b[?25hRequirement already satisfied: sniffio in /usr/local/lib/python3.10/dist-packages (from httpx==0.13.3->googletrans==4.0.0-rc1) (1.3.1)\n",
            "Collecting chardet==3.* (from httpx==0.13.3->googletrans==4.0.0-rc1)\n",
            "  Downloading chardet-3.0.4-py2.py3-none-any.whl (133 kB)\n",
            "\u001b[2K     \u001b[90m━━━━━━━━━━━━━━━━━━━━━━━━━━━━━━━━━━━━━━━━\u001b[0m \u001b[32m133.4/133.4 kB\u001b[0m \u001b[31m13.1 MB/s\u001b[0m eta \u001b[36m0:00:00\u001b[0m\n",
            "\u001b[?25hCollecting idna==2.* (from httpx==0.13.3->googletrans==4.0.0-rc1)\n",
            "  Downloading idna-2.10-py2.py3-none-any.whl (58 kB)\n",
            "\u001b[2K     \u001b[90m━━━━━━━━━━━━━━━━━━━━━━━━━━━━━━━━━━━━━━━━\u001b[0m \u001b[32m58.8/58.8 kB\u001b[0m \u001b[31m6.3 MB/s\u001b[0m eta \u001b[36m0:00:00\u001b[0m\n",
            "\u001b[?25hCollecting rfc3986<2,>=1.3 (from httpx==0.13.3->googletrans==4.0.0-rc1)\n",
            "  Downloading rfc3986-1.5.0-py2.py3-none-any.whl (31 kB)\n",
            "Collecting httpcore==0.9.* (from httpx==0.13.3->googletrans==4.0.0-rc1)\n",
            "  Downloading httpcore-0.9.1-py3-none-any.whl (42 kB)\n",
            "\u001b[2K     \u001b[90m━━━━━━━━━━━━━━━━━━━━━━━━━━━━━━━━━━━━━━━━\u001b[0m \u001b[32m42.6/42.6 kB\u001b[0m \u001b[31m4.4 MB/s\u001b[0m eta \u001b[36m0:00:00\u001b[0m\n",
            "\u001b[?25hCollecting h11<0.10,>=0.8 (from httpcore==0.9.*->httpx==0.13.3->googletrans==4.0.0-rc1)\n",
            "  Downloading h11-0.9.0-py2.py3-none-any.whl (53 kB)\n",
            "\u001b[2K     \u001b[90m━━━━━━━━━━━━━━━━━━━━━━━━━━━━━━━━━━━━━━━━\u001b[0m \u001b[32m53.6/53.6 kB\u001b[0m \u001b[31m6.1 MB/s\u001b[0m eta \u001b[36m0:00:00\u001b[0m\n",
            "\u001b[?25hCollecting h2==3.* (from httpcore==0.9.*->httpx==0.13.3->googletrans==4.0.0-rc1)\n",
            "  Downloading h2-3.2.0-py2.py3-none-any.whl (65 kB)\n",
            "\u001b[2K     \u001b[90m━━━━━━━━━━━━━━━━━━━━━━━━━━━━━━━━━━━━━━━━\u001b[0m \u001b[32m65.0/65.0 kB\u001b[0m \u001b[31m7.5 MB/s\u001b[0m eta \u001b[36m0:00:00\u001b[0m\n",
            "\u001b[?25hCollecting hyperframe<6,>=5.2.0 (from h2==3.*->httpcore==0.9.*->httpx==0.13.3->googletrans==4.0.0-rc1)\n",
            "  Downloading hyperframe-5.2.0-py2.py3-none-any.whl (12 kB)\n",
            "Collecting hpack<4,>=3.0 (from h2==3.*->httpcore==0.9.*->httpx==0.13.3->googletrans==4.0.0-rc1)\n",
            "  Downloading hpack-3.0.0-py2.py3-none-any.whl (38 kB)\n",
            "Building wheels for collected packages: googletrans\n",
            "  Building wheel for googletrans (setup.py) ... \u001b[?25l\u001b[?25hdone\n",
            "  Created wheel for googletrans: filename=googletrans-4.0.0rc1-py3-none-any.whl size=17395 sha256=fcf698cdb54cd179beed7e94a0e2492ae9d401fe5de2c345b9abfc6de49da7d5\n",
            "  Stored in directory: /root/.cache/pip/wheels/c0/59/9f/7372f0cf70160fe61b528532e1a7c8498c4becd6bcffb022de\n",
            "Successfully built googletrans\n",
            "Installing collected packages: rfc3986, hyperframe, hpack, h11, chardet, idna, hstspreload, h2, httpcore, httpx, googletrans\n",
            "  Attempting uninstall: chardet\n",
            "    Found existing installation: chardet 5.2.0\n",
            "    Uninstalling chardet-5.2.0:\n",
            "      Successfully uninstalled chardet-5.2.0\n",
            "  Attempting uninstall: idna\n",
            "    Found existing installation: idna 3.7\n",
            "    Uninstalling idna-3.7:\n",
            "      Successfully uninstalled idna-3.7\n",
            "Successfully installed chardet-3.0.4 googletrans-4.0.0rc1 h11-0.9.0 h2-3.2.0 hpack-3.0.0 hstspreload-2024.7.1 httpcore-0.9.1 httpx-0.13.3 hyperframe-5.2.0 idna-2.10 rfc3986-1.5.0\n"
          ]
        }
      ]
    },
    {
      "cell_type": "code",
      "execution_count": 7,
      "metadata": {
        "colab": {
          "base_uri": "https://localhost:8080/"
        },
        "id": "WtADEkx53sv9",
        "outputId": "a56910a0-2b38-41bb-c55d-c8fca1c16544"
      },
      "outputs": [
        {
          "name": "stdout",
          "output_type": "stream",
          "text": [
            "List of Indian languages and their codes:\n",
            "Hindi: hi\n",
            "Marathi: mr\n",
            "Punjabi: pa\n",
            "Malayalam: ml\n",
            "Bengali: bn\n",
            "Tamil: ta\n",
            "Telugu: te\n",
            "Urdu: ur\n",
            "Gujarati: gu\n",
            "Odia: or\n",
            "Kannada: kn\n",
            "\n",
            "Enter 'end' to finish the translation session.\n",
            "\n",
            "Enter the text to translate: i ate food\n",
            "Enter the source language code (e.g., 'en' for English): en\n",
            "Enter the destination language code (e.g., 'hi' for Hindi): te\n",
            "\n",
            "Translated text: నేను ఆహారం తిన్నాను\n",
            "\n",
            "Enter 'end' to finish the translation session.\n",
            "\n",
            "Enter the text to translate: i want some houses\n",
            "Enter the source language code (e.g., 'en' for English): en\n",
            "Enter the destination language code (e.g., 'hi' for Hindi): te\n",
            "\n",
            "Translated text: నాకు కొన్ని ఇళ్ళు కావాలి\n",
            "\n",
            "Enter 'end' to finish the translation session.\n",
            "\n",
            "Enter the text to translate: i want some money\n",
            "Enter the source language code (e.g., 'en' for English): en\n",
            "Enter the destination language code (e.g., 'hi' for Hindi): te\n",
            "\n",
            "Translated text: నాకు కొంత డబ్బు కావాలి\n",
            "\n",
            "Enter 'end' to finish the translation session.\n",
            "\n",
            "Enter the text to translate: end\n"
          ]
        }
      ],
      "source": [
        "from googletrans import Translator\n",
        "\n",
        "# List of Indian languages with their respective codes\n",
        "indian_languages = {\n",
        "    'Hindi': 'hi',\n",
        "    'Marathi': 'mr',\n",
        "    'Punjabi': 'pa',\n",
        "    'Malayalam': 'ml',\n",
        "    'Bengali': 'bn',\n",
        "    'Tamil': 'ta',\n",
        "    'Telugu': 'te',\n",
        "    'Urdu': 'ur',\n",
        "    'Gujarati': 'gu',\n",
        "    'Odia': 'or',\n",
        "    'Kannada': 'kn'\n",
        "}\n",
        "\n",
        "def translate_text(text, src_language, dest_language):\n",
        "    translator = Translator()\n",
        "    try:\n",
        "        translated = translator.translate(text, src=src_language, dest=dest_language)\n",
        "        return translated.text\n",
        "    except Exception as e:\n",
        "        return f\"Error: {str(e)}\"\n",
        "\n",
        "def translate_loop():\n",
        "    print(\"List of Indian languages and their codes:\")\n",
        "    for language, code in indian_languages.items():\n",
        "        print(f\"{language}: {code}\")\n",
        "\n",
        "    while True:\n",
        "        print(\"\\nEnter 'end' to finish the translation session.\")\n",
        "        text = input(\"\\nEnter the text to translate: \")\n",
        "        if text.lower() == 'end':\n",
        "            break\n",
        "\n",
        "        src_language = input(\"Enter the source language code (e.g., 'en' for English): \")\n",
        "        dest_language = input(\"Enter the destination language code (e.g., 'hi' for Hindi): \")\n",
        "\n",
        "        translated_text = translate_text(text, src_language, dest_language)\n",
        "        print(f\"\\nTranslated text: {translated_text}\")\n",
        "\n",
        "if __name__ == \"__main__\":\n",
        "    translate_loop()\n"
      ]
    }
  ]
}
